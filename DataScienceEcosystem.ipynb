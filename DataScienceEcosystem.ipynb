{
 "cells": [
  {
   "cell_type": "markdown",
   "id": "43450742-c464-4839-bc23-4b2a6073119c",
   "metadata": {},
   "source": [
    "# Data Science Tools and Ecosystem"
   ]
  },
  {
   "cell_type": "markdown",
   "id": "5c06e40d-13b7-4621-bdc9-781f811ed7b8",
   "metadata": {},
   "source": [
    "## Author \n",
    "Noel Leduna"
   ]
  },
  {
   "cell_type": "markdown",
   "id": "11658abd-90b0-4319-901b-680d4079df47",
   "metadata": {},
   "source": [
    "In this notebook, Data Science Tools and Ecosystem are summarized."
   ]
  },
  {
   "cell_type": "markdown",
   "id": "55a1a641-a8f7-4b76-af36-825b916e9d5b",
   "metadata": {},
   "source": [
    "**Objectives:**\n",
    "- List of popular languages, and libraries used in Data Science\n",
    "- List of tools used in Data Science\n",
    "- Python code examples\n",
    "    "
   ]
  },
  {
   "cell_type": "markdown",
   "id": "ac850409-6331-4f9a-9af7-08777912de83",
   "metadata": {},
   "source": [
    "Some of the popular languages that Data Scientists use are:\n",
    "\n",
    "1. Python\n",
    "2. R\n",
    "3. SQL\n",
    "4. Java\n",
    "5. Julia\n",
    "6. Scala\n",
    "7. C/C++\n",
    "8. JavaScript\n",
    "9. Swift\n",
    "10. Go"
   ]
  },
  {
   "cell_type": "markdown",
   "id": "5ae159e8-ca0a-4fca-b4b1-4057325e8b18",
   "metadata": {},
   "source": [
    "Some of the commonly used libraries used by Data Scientists include:\n",
    "\n",
    "1. TensorFlow\n",
    "2. NumPy\n",
    "3. SciPy \n",
    "4. Pandas\n",
    "5. Matplotlib \n",
    "6. Keras\n",
    "7. SciKit-Learn\n",
    "8. PyTorch\n",
    "9. Scrapy\n",
    "10. BeautifulSoup"
   ]
  },
  {
   "cell_type": "markdown",
   "id": "a14da4f4-3159-4cdd-a88e-91cf0f3f296c",
   "metadata": {},
   "source": [
    "| Data Science Tools |\n",
    "| -------------------- |\n",
    "| Apache Spark | \n",
    "| BigML |\n",
    "| MATLAB |"
   ]
  },
  {
   "cell_type": "markdown",
   "id": "9eba7050-b441-4fc2-96de-25188d835545",
   "metadata": {},
   "source": [
    "### Below are a few examples of evaluating arithmetic expressions in Python\n"
   ]
  },
  {
   "cell_type": "code",
   "execution_count": 4,
   "id": "dda92d80-c965-495a-b7b8-0dd706fd3610",
   "metadata": {},
   "outputs": [
    {
     "name": "stdout",
     "output_type": "stream",
     "text": [
      "17\n"
     ]
    }
   ],
   "source": [
    "#This a simple arithmetic expression to mutiply then add integers\n",
    "result = (3*4)+5\n",
    "print(result)"
   ]
  },
  {
   "cell_type": "code",
   "execution_count": 9,
   "id": "40eaf957-2fe9-4cc8-a2fb-1aebdb877eae",
   "metadata": {},
   "outputs": [
    {
     "name": "stdout",
     "output_type": "stream",
     "text": [
      "3.3333333333333335\n"
     ]
    }
   ],
   "source": [
    "#This will convert 200 minutes to hours by dividing by 60\n",
    "def conversion(minutes):\n",
    "    conv = minutes / 60\n",
    "    return conv\n",
    "\n",
    "print(conversion(200))\n"
   ]
  },
  {
   "cell_type": "code",
   "execution_count": null,
   "id": "250ff56c-9ad4-485d-8f01-93c88b36aea4",
   "metadata": {},
   "outputs": [],
   "source": []
  }
 ],
 "metadata": {
  "kernelspec": {
   "display_name": "Python",
   "language": "python",
   "name": "conda-env-python-py"
  },
  "language_info": {
   "codemirror_mode": {
    "name": "ipython",
    "version": 3
   },
   "file_extension": ".py",
   "mimetype": "text/x-python",
   "name": "python",
   "nbconvert_exporter": "python",
   "pygments_lexer": "ipython3",
   "version": "3.7.12"
  }
 },
 "nbformat": 4,
 "nbformat_minor": 5
}
